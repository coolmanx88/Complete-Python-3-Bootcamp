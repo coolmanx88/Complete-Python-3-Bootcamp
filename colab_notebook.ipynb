{
  "cells": [
    {
      "cell_type": "markdown",
      "metadata": {
        "id": "7yt9XU3dWaLf"
      },
      "source": [
        "<div dir=\"rtl\">\n",
        "  <center>\n",
        "    <h1>تحويل - الكتب المُيسّرة</h1>\n",
        "  </center>\n",
        "\n",
        "  <p>مرحبًا بك في تحويل لتحويل ملفات PDF إلى Word/DOCX و TXT باستخدام تقنيات الذكاء الاصطناعي. لاستخدام تحويل:</p>\n",
        "\n",
        "  <ol>\n",
        "    <li>قم بتحديد ما إذا كنت تريد إزالة الأسطر من ملف Word/DOCX أو لا من خلال الخيار الموجود في الأسفل</li>\n",
        "    <li>قم بتشغيل الخلية في الأسفل من خلال الضغط على الدائرة المحتوية على السهم</li>\n",
        "  </ol>\n",
        "\n",
        "  <p>عند الضغط على الدائرة المحتوية على السهم، ستبدأ عملية تجهيز بيئة العمل وستظهر لك رسالة تسألك هل تريد إعطاء الصلاحيات لتحويل أو لا، جاوب على هذه الرسالة بالموافقة واتبع الخطوات الموضّحة في الصور في الأسفل. بعد ذلك ستظهر لك رسالة تطلب منك اختيار ملف أو ملفات PDF التي تريد تحويلها إلى Word/DOCX و TXT. عند اختيار الملف أو الملفات، ستبدأ عملية التحويل وعند انتهائها سيتم تنزيل المخرجات إلى حاسبك.</p>\n",
        "\n",
        "  <hr>\n",
        "\n",
        "  <p>يمكنك متابعة مشروع <strong>الكتب المُيسّرة</strong> والتواصل معنا من خلال:</p>\n",
        "\n",
        "  <ul>\n",
        "    <li><a href=\"https://t.me/ieasybooks\">قناتنا على تيليجرام</a></li>\n",
        "    <li><a href=\"https://www.youtube.com/@ieasybooks\">قناتنا على يوتيوب</a></li>\n",
        "    <li><a href=\"https://twitter.com/iieasybooks\">حسابنا على تويتر</a></li>\n",
        "    <li><a href=\"https://www.facebook.com/ieasybooks\">صفحتنا على فيسبوك</a></li>\n",
        "    <li><a href=\"https://github.com/ieasybooks\">حسابنا على GitHub (للمبرمجين)</a></li>\n",
        "    <li>بريدنا الالكتروني: easybooksdev@gmail.com</li>\n",
        "  </ul>\n",
        "</div>"
      ]
    },
    {
      "cell_type": "code",
      "execution_count": 1,
      "metadata": {
        "cellView": "form",
        "id": "Uf8p_j7vXHTg",
        "outputId": "45f6896c-404f-4bde-a5bd-53895a3f4126",
        "colab": {
          "base_uri": "https://localhost:8080/",
          "height": 391
        }
      },
      "outputs": [
        {
          "metadata": {
            "tags": null
          },
          "name": "stdout",
          "output_type": "stream",
          "text": [
            "جارٍ تجهيز بيئة العمل.\n",
            "W: Skipping acquire of configured file 'main/source/Sources' as repository 'https://r2u.stat.illinois.edu/ubuntu jammy InRelease' does not seem to provide it (sources.list entry misspelt?)\n"
          ]
        },
        {
          "output_type": "error",
          "ename": "KeyboardInterrupt",
          "evalue": "",
          "traceback": [
            "\u001b[0;31m---------------------------------------------------------------------------\u001b[0m",
            "\u001b[0;31mKeyboardInterrupt\u001b[0m                         Traceback (most recent call last)",
            "\u001b[0;32m<ipython-input-1-521092405>\u001b[0m in \u001b[0;36m<cell line: 0>\u001b[0;34m()\u001b[0m\n\u001b[1;32m     24\u001b[0m \u001b[0;34m\u001b[0m\u001b[0m\n\u001b[1;32m     25\u001b[0m \u001b[0;32mif\u001b[0m \u001b[0;32mnot\u001b[0m \u001b[0mos\u001b[0m\u001b[0;34m.\u001b[0m\u001b[0mpath\u001b[0m\u001b[0;34m.\u001b[0m\u001b[0mexists\u001b[0m\u001b[0;34m(\u001b[0m\u001b[0;34m'user_authenticated.txt'\u001b[0m\u001b[0;34m)\u001b[0m\u001b[0;34m:\u001b[0m\u001b[0;34m\u001b[0m\u001b[0;34m\u001b[0m\u001b[0m\n\u001b[0;32m---> 26\u001b[0;31m   \u001b[0mauthenticate_user\u001b[0m\u001b[0;34m(\u001b[0m\u001b[0;34m)\u001b[0m\u001b[0;34m\u001b[0m\u001b[0;34m\u001b[0m\u001b[0m\n\u001b[0m\u001b[1;32m     27\u001b[0m   \u001b[0mopen\u001b[0m\u001b[0;34m(\u001b[0m\u001b[0;34m'user_authenticated.txt'\u001b[0m\u001b[0;34m,\u001b[0m \u001b[0;34m'w'\u001b[0m\u001b[0;34m)\u001b[0m\u001b[0;34m.\u001b[0m\u001b[0mclose\u001b[0m\u001b[0;34m(\u001b[0m\u001b[0;34m)\u001b[0m\u001b[0;34m\u001b[0m\u001b[0;34m\u001b[0m\u001b[0m\n\u001b[1;32m     28\u001b[0m \u001b[0;34m\u001b[0m\u001b[0m\n",
            "\u001b[0;32m/usr/local/lib/python3.11/dist-packages/google/colab/auth.py\u001b[0m in \u001b[0;36mauthenticate_user\u001b[0;34m(clear_output, project_id)\u001b[0m\n\u001b[1;32m    258\u001b[0m   \u001b[0;32mif\u001b[0m \u001b[0;32mnot\u001b[0m \u001b[0m_check_adc\u001b[0m\u001b[0;34m(\u001b[0m\u001b[0m_CredentialType\u001b[0m\u001b[0;34m.\u001b[0m\u001b[0mUSER\u001b[0m\u001b[0;34m)\u001b[0m\u001b[0;34m:\u001b[0m\u001b[0;34m\u001b[0m\u001b[0;34m\u001b[0m\u001b[0m\n\u001b[1;32m    259\u001b[0m     \u001b[0;32mif\u001b[0m \u001b[0muse_auth_ephem\u001b[0m\u001b[0;34m:\u001b[0m\u001b[0;34m\u001b[0m\u001b[0;34m\u001b[0m\u001b[0m\n\u001b[0;32m--> 260\u001b[0;31m       _message.blocking_request(\n\u001b[0m\u001b[1;32m    261\u001b[0m           \u001b[0;34m'request_auth'\u001b[0m\u001b[0;34m,\u001b[0m\u001b[0;34m\u001b[0m\u001b[0;34m\u001b[0m\u001b[0m\n\u001b[1;32m    262\u001b[0m           \u001b[0mrequest\u001b[0m\u001b[0;34m=\u001b[0m\u001b[0;34m{\u001b[0m\u001b[0;34m'authType'\u001b[0m\u001b[0;34m:\u001b[0m \u001b[0;34m'auth_user_ephemeral'\u001b[0m\u001b[0;34m}\u001b[0m\u001b[0;34m,\u001b[0m\u001b[0;34m\u001b[0m\u001b[0;34m\u001b[0m\u001b[0m\n",
            "\u001b[0;32m/usr/local/lib/python3.11/dist-packages/google/colab/_message.py\u001b[0m in \u001b[0;36mblocking_request\u001b[0;34m(request_type, request, timeout_sec, parent)\u001b[0m\n\u001b[1;32m    174\u001b[0m       \u001b[0mrequest_type\u001b[0m\u001b[0;34m,\u001b[0m \u001b[0mrequest\u001b[0m\u001b[0;34m,\u001b[0m \u001b[0mparent\u001b[0m\u001b[0;34m=\u001b[0m\u001b[0mparent\u001b[0m\u001b[0;34m,\u001b[0m \u001b[0mexpect_reply\u001b[0m\u001b[0;34m=\u001b[0m\u001b[0;32mTrue\u001b[0m\u001b[0;34m\u001b[0m\u001b[0;34m\u001b[0m\u001b[0m\n\u001b[1;32m    175\u001b[0m   )\n\u001b[0;32m--> 176\u001b[0;31m   \u001b[0;32mreturn\u001b[0m \u001b[0mread_reply_from_input\u001b[0m\u001b[0;34m(\u001b[0m\u001b[0mrequest_id\u001b[0m\u001b[0;34m,\u001b[0m \u001b[0mtimeout_sec\u001b[0m\u001b[0;34m)\u001b[0m\u001b[0;34m\u001b[0m\u001b[0;34m\u001b[0m\u001b[0m\n\u001b[0m",
            "\u001b[0;32m/usr/local/lib/python3.11/dist-packages/google/colab/_message.py\u001b[0m in \u001b[0;36mread_reply_from_input\u001b[0;34m(message_id, timeout_sec)\u001b[0m\n\u001b[1;32m     94\u001b[0m     \u001b[0mreply\u001b[0m \u001b[0;34m=\u001b[0m \u001b[0m_read_next_input_message\u001b[0m\u001b[0;34m(\u001b[0m\u001b[0;34m)\u001b[0m\u001b[0;34m\u001b[0m\u001b[0;34m\u001b[0m\u001b[0m\n\u001b[1;32m     95\u001b[0m     \u001b[0;32mif\u001b[0m \u001b[0mreply\u001b[0m \u001b[0;34m==\u001b[0m \u001b[0m_NOT_READY\u001b[0m \u001b[0;32mor\u001b[0m \u001b[0;32mnot\u001b[0m \u001b[0misinstance\u001b[0m\u001b[0;34m(\u001b[0m\u001b[0mreply\u001b[0m\u001b[0;34m,\u001b[0m \u001b[0mdict\u001b[0m\u001b[0;34m)\u001b[0m\u001b[0;34m:\u001b[0m\u001b[0;34m\u001b[0m\u001b[0;34m\u001b[0m\u001b[0m\n\u001b[0;32m---> 96\u001b[0;31m       \u001b[0mtime\u001b[0m\u001b[0;34m.\u001b[0m\u001b[0msleep\u001b[0m\u001b[0;34m(\u001b[0m\u001b[0;36m0.025\u001b[0m\u001b[0;34m)\u001b[0m\u001b[0;34m\u001b[0m\u001b[0;34m\u001b[0m\u001b[0m\n\u001b[0m\u001b[1;32m     97\u001b[0m       \u001b[0;32mcontinue\u001b[0m\u001b[0;34m\u001b[0m\u001b[0;34m\u001b[0m\u001b[0m\n\u001b[1;32m     98\u001b[0m     if (\n",
            "\u001b[0;31mKeyboardInterrupt\u001b[0m: "
          ]
        }
      ],
      "source": [
        "\n",
        "# @title <h1><center>تحويل</center></h1>\n",
        "\n",
        "print('جارٍ تجهيز بيئة العمل.')\n",
        "\n",
        "# Setup Tahweel.\n",
        "!pip install -U tahweel==0.1.0 > tahweel_logs.txt\n",
        "\n",
        "# Setup poppler-utils.\n",
        "!apt-get update > apt_update_logs.txt\n",
        "!apt-get install poppler-utils > apt_install_logs.txt\n",
        "\n",
        "# Get inputs.\n",
        "\n",
        "# @markdown <p dir=\"rtl\">إزالة الأسطر من ملفات Word/DOCX. هذا الاختيار مفيد في حال أردت أن تكون عدد صفحات ملف DOCX مساوياً لعدد صفحات ملف PDF.</p>\n",
        "docx_remove_newlines = 'نعم' # @param [\"نعم\", \"لا\"]\n",
        "\n",
        "# Imports.\n",
        "import os\n",
        "\n",
        "from pathlib import Path\n",
        "\n",
        "from google.colab.auth import authenticate_user\n",
        "from google.colab.files import upload, download\n",
        "\n",
        "if not os.path.exists('user_authenticated.txt'):\n",
        "  authenticate_user()\n",
        "  open('user_authenticated.txt', 'w').close()\n",
        "\n",
        "print('حدد الملف أو الملفات التي تريد تحويلها:')\n",
        "\n",
        "file_names = list(map(Path, upload().keys()))\n",
        "\n",
        "print('جارٍ تحويل الملفات.')\n",
        "\n",
        "file_names_argument = ' '.join([f'\"./{str(file_name)}\"' for file_name in file_names])\n",
        "\n",
        "if docx_remove_newlines == 'نعم':\n",
        "  docx_remove_newlines = '--docx-remove-newlines'\n",
        "else:\n",
        "  docx_remove_newlines = ''\n",
        "\n",
        "!tahweel $file_names_argument --dir-output-type side_by_side $docx_remove_newlines --service-account-credentials ./skip_service_account.json\n",
        "\n",
        "print('جارٍ تنزيل المخرجات.')\n",
        "\n",
        "for file_name in file_names:\n",
        "  if file_name.suffix == '.pdf':\n",
        "    download(file_name.with_suffix('.docx'))\n",
        "    download(file_name.with_suffix('.txt'))\n"
      ]
    },
    {
      "cell_type": "markdown",
      "metadata": {
        "id": "zTO2wLKrTvS-"
      },
      "source": [
        "<ul>\n",
        "  <li>\n",
        "    <img src=\"https://raw.githubusercontent.com/ieasybooks/tahweel/main/colab_images/1_run_warning.jpg\" width=\"600px\"/>\n",
        "  </li>\n",
        "  <li>\n",
        "    <img src=\"https://raw.githubusercontent.com/ieasybooks/tahweel/main/colab_images/2_credentials_warning.jpg\" width=\"600px\"/>\n",
        "  </li>\n",
        "  <li>\n",
        "    <img src=\"https://raw.githubusercontent.com/ieasybooks/tahweel/main/colab_images/3_choose_an_account.jpg\" width=\"600px\"/>\n",
        "  </li>\n",
        "  <li>\n",
        "    <img src=\"https://raw.githubusercontent.com/ieasybooks/tahweel/main/colab_images/4_sign_in.jpg\" width=\"600px\"/>\n",
        "  </li>\n",
        "  <li>\n",
        "    <img src=\"https://raw.githubusercontent.com/ieasybooks/tahweel/main/colab_images/5_permissions.jpg\" width=\"600px\"/>\n",
        "  </li>\n",
        "</ul>"
      ]
    }
  ],
  "metadata": {
    "colab": {
      "provenance": []
    },
    "kernelspec": {
      "display_name": "Python 3",
      "name": "python3"
    },
    "language_info": {
      "name": "python"
    }
  },
  "nbformat": 4,
  "nbformat_minor": 0
}